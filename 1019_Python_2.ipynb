{
  "nbformat": 4,
  "nbformat_minor": 0,
  "metadata": {
    "colab": {
      "provenance": []
    },
    "kernelspec": {
      "name": "python3",
      "display_name": "Python 3"
    },
    "language_info": {
      "name": "python"
    }
  },
  "cells": [
    {
      "cell_type": "markdown",
      "source": [
        "4110E224 艾綺絲\n",
        "\n",
        "\n",
        "Python for loops.\n",
        "\n",
        "Loop through the letters in the word \"Notebook\":"
      ],
      "metadata": {
        "id": "4KwvFdOrRimn"
      }
    },
    {
      "cell_type": "code",
      "source": [
        "for x in \"Notebook\":\n",
        "  print(x) \n"
      ],
      "metadata": {
        "colab": {
          "base_uri": "https://localhost:8080/"
        },
        "id": "RTeUBWL2RmpT",
        "outputId": "c329ce5c-1bf3-44fb-aaaa-90f3f7d76aba"
      },
      "execution_count": null,
      "outputs": [
        {
          "output_type": "stream",
          "name": "stdout",
          "text": [
            "N\n",
            "o\n",
            "t\n",
            "e\n",
            "b\n",
            "o\n",
            "o\n",
            "k\n"
          ]
        }
      ]
    },
    {
      "cell_type": "markdown",
      "source": [
        "With the break statement we can stop the loop before it has looped through all the items:"
      ],
      "metadata": {
        "id": "xFPnMcO2Sru5"
      }
    },
    {
      "cell_type": "code",
      "source": [
        "supplies = [\"Notebook\", \"Pencil\", \"Calculator\"]\n",
        "for x in supplies:\n",
        "  print(x)\n",
        "  if x == \"Notebook\":\n",
        "    break"
      ],
      "metadata": {
        "colab": {
          "base_uri": "https://localhost:8080/"
        },
        "id": "HVkIgG0qSDUY",
        "outputId": "6c7d786a-619a-4c2a-bc4d-8e1ddbf8db74"
      },
      "execution_count": null,
      "outputs": [
        {
          "output_type": "stream",
          "name": "stdout",
          "text": [
            "Notebook\n"
          ]
        }
      ]
    },
    {
      "cell_type": "markdown",
      "source": [
        "Exit the loop when x is \"Pencil\":"
      ],
      "metadata": {
        "id": "Yn1CMv66SzH1"
      }
    },
    {
      "cell_type": "code",
      "source": [
        "supplies = [\"Notebook\", \"Pencil\", \"Calculator\"]\n",
        "for x in supplies:\n",
        "  print(x)\n",
        "  if x == \"Pencil\":\n",
        "    break\n",
        "    print(x)"
      ],
      "metadata": {
        "colab": {
          "base_uri": "https://localhost:8080/"
        },
        "id": "MCLE5UAOTAwJ",
        "outputId": "e34a4c58-f183-4a2e-87cf-aa94355e5028"
      },
      "execution_count": null,
      "outputs": [
        {
          "output_type": "stream",
          "name": "stdout",
          "text": [
            "Notebook\n",
            "Pencil\n"
          ]
        }
      ]
    },
    {
      "cell_type": "markdown",
      "source": [
        "With the continue statement we can stop the current iteration of the loop, and continue with the next:"
      ],
      "metadata": {
        "id": "Qxpo2ZhpTnuQ"
      }
    },
    {
      "cell_type": "code",
      "source": [
        "supplies = [\"Notebook\", \"Pencil\", \"Calculator\"]\n",
        "for x in supplies:\n",
        "  print(x)\n",
        "  if x == \"Pencil\":\n",
        "    continue\n",
        "    print(x)"
      ],
      "metadata": {
        "colab": {
          "base_uri": "https://localhost:8080/"
        },
        "id": "7uI38UaFTsrn",
        "outputId": "0b9f046b-2e00-4dd6-9733-f65f330c8f99"
      },
      "execution_count": null,
      "outputs": [
        {
          "output_type": "stream",
          "name": "stdout",
          "text": [
            "Notebook\n",
            "Pencil\n",
            "Calculator\n"
          ]
        }
      ]
    },
    {
      "cell_type": "markdown",
      "source": [
        "To loop through a set of code a specified number of times, we can use the range() function,\n",
        "The range() function returns a sequence of numbers, starting from 0 by default, and increments by 1 (by default), and ends at a specified number."
      ],
      "metadata": {
        "id": "TBUmWHQoUEWB"
      }
    },
    {
      "cell_type": "code",
      "source": [
        "for x in range(33):\n",
        "  print(x)"
      ],
      "metadata": {
        "colab": {
          "base_uri": "https://localhost:8080/"
        },
        "id": "KGU4-xS2UJ4e",
        "outputId": "9c971fee-d257-409a-8e3f-77132709a5dd"
      },
      "execution_count": null,
      "outputs": [
        {
          "output_type": "stream",
          "name": "stdout",
          "text": [
            "0\n",
            "1\n",
            "2\n",
            "3\n",
            "4\n",
            "5\n",
            "6\n",
            "7\n",
            "8\n",
            "9\n",
            "10\n",
            "11\n",
            "12\n",
            "13\n",
            "14\n",
            "15\n",
            "16\n",
            "17\n",
            "18\n",
            "19\n",
            "20\n",
            "21\n",
            "22\n",
            "23\n",
            "24\n",
            "25\n",
            "26\n",
            "27\n",
            "28\n",
            "29\n",
            "30\n",
            "31\n",
            "32\n"
          ]
        }
      ]
    },
    {
      "cell_type": "markdown",
      "source": [
        "Using the start parameter:"
      ],
      "metadata": {
        "id": "36dHCaOcUrBd"
      }
    },
    {
      "cell_type": "code",
      "source": [
        "for x in range(33, 44):\n",
        "  print(x)"
      ],
      "metadata": {
        "colab": {
          "base_uri": "https://localhost:8080/"
        },
        "id": "E_nwBuj4UuCl",
        "outputId": "5f1753a5-c63e-40a8-94fb-a5232a222021"
      },
      "execution_count": null,
      "outputs": [
        {
          "output_type": "stream",
          "name": "stdout",
          "text": [
            "33\n",
            "34\n",
            "35\n",
            "36\n",
            "37\n",
            "38\n",
            "39\n",
            "40\n",
            "41\n",
            "42\n",
            "43\n"
          ]
        }
      ]
    },
    {
      "cell_type": "markdown",
      "source": [
        "Increment the sequence with 3 (default is 1):"
      ],
      "metadata": {
        "id": "mU_QIyPYU9CN"
      }
    },
    {
      "cell_type": "code",
      "source": [
        "for x in range(2, 30, 3):\n",
        "  print(x)"
      ],
      "metadata": {
        "colab": {
          "base_uri": "https://localhost:8080/"
        },
        "id": "F_lUp_VvU-ky",
        "outputId": "a3e522b7-3383-44f7-e50c-d14a43b793ed"
      },
      "execution_count": null,
      "outputs": [
        {
          "output_type": "stream",
          "name": "stdout",
          "text": [
            "2\n",
            "5\n",
            "8\n",
            "11\n",
            "14\n",
            "17\n",
            "20\n",
            "23\n",
            "26\n",
            "29\n"
          ]
        }
      ]
    },
    {
      "cell_type": "markdown",
      "source": [
        "Print all numbers from 0 to 33, and print a message when the loop has ended:"
      ],
      "metadata": {
        "id": "XUvEBA6uVSYH"
      }
    },
    {
      "cell_type": "code",
      "source": [
        "for x in range(33):\n",
        "  print(x)\n",
        "else:\n",
        "  print(\"Finally finished!\")"
      ],
      "metadata": {
        "colab": {
          "base_uri": "https://localhost:8080/"
        },
        "id": "GNivS_rEVXr0",
        "outputId": "f34c1c29-3ad1-4a48-ea16-0de7f06e53d2"
      },
      "execution_count": null,
      "outputs": [
        {
          "output_type": "stream",
          "name": "stdout",
          "text": [
            "0\n",
            "1\n",
            "2\n",
            "3\n",
            "4\n",
            "5\n",
            "6\n",
            "7\n",
            "8\n",
            "9\n",
            "10\n",
            "11\n",
            "12\n",
            "13\n",
            "14\n",
            "15\n",
            "16\n",
            "17\n",
            "18\n",
            "19\n",
            "20\n",
            "21\n",
            "22\n",
            "23\n",
            "24\n",
            "25\n",
            "26\n",
            "27\n",
            "28\n",
            "29\n",
            "30\n",
            "31\n",
            "32\n",
            "Finally finished!\n"
          ]
        }
      ]
    },
    {
      "cell_type": "markdown",
      "source": [
        "Break the loop when x is 12, and see what happens with the else block:"
      ],
      "metadata": {
        "id": "S2Xp5M1MVljM"
      }
    },
    {
      "cell_type": "code",
      "source": [
        "for x in range(33):\n",
        "  if x == 12: break\n",
        "  print(x)\n",
        "else:\n",
        "  print(\"Finally finished!\")"
      ],
      "metadata": {
        "colab": {
          "base_uri": "https://localhost:8080/"
        },
        "id": "THrO1VCaVpaE",
        "outputId": "3e071cfb-1901-4a25-c2b6-9d9b1e3885a7"
      },
      "execution_count": null,
      "outputs": [
        {
          "output_type": "stream",
          "name": "stdout",
          "text": [
            "0\n",
            "1\n",
            "2\n",
            "3\n",
            "4\n",
            "5\n",
            "6\n",
            "7\n",
            "8\n",
            "9\n",
            "10\n",
            "11\n"
          ]
        }
      ]
    },
    {
      "cell_type": "markdown",
      "source": [
        "Print each adjective for every country:"
      ],
      "metadata": {
        "id": "Cj0Tkv62V0Fy"
      }
    },
    {
      "cell_type": "code",
      "source": [
        "adj = [\"Thick\", \"Colorful\", \"Cheap\"]\n",
        "supplies = [\"Notebook\", \"Pencil\", \"Calculator\"]\n",
        "\n",
        "for x in adj:\n",
        "  for y in supplies:\n",
        "    print(x, y)"
      ],
      "metadata": {
        "colab": {
          "base_uri": "https://localhost:8080/"
        },
        "id": "YayGL5muV7iv",
        "outputId": "75844fef-159b-4013-95bb-13cf875ade17"
      },
      "execution_count": null,
      "outputs": [
        {
          "output_type": "stream",
          "name": "stdout",
          "text": [
            "Thick Notebook\n",
            "Thick Pencil\n",
            "Thick Calculator\n",
            "Colorful Notebook\n",
            "Colorful Pencil\n",
            "Colorful Calculator\n",
            "Cheap Notebook\n",
            "Cheap Pencil\n",
            "Cheap Calculator\n"
          ]
        }
      ]
    },
    {
      "cell_type": "markdown",
      "source": [
        "for loops cannot be empty, but if you for some reason have a for loop with no content, put in the pass statement to avoid getting an error."
      ],
      "metadata": {
        "id": "RFel3QYuXuxc"
      }
    },
    {
      "cell_type": "code",
      "source": [
        "for x in [13, 23, 33]:\n",
        "  pass"
      ],
      "metadata": {
        "id": "uoF98FkSXzIP"
      },
      "execution_count": null,
      "outputs": []
    }
  ]
}